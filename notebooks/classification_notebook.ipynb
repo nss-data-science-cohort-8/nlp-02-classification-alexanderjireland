{
 "cells": [
  {
   "cell_type": "code",
   "execution_count": 1,
   "id": "e52e86e4",
   "metadata": {},
   "outputs": [],
   "source": [
    "import pandas as pd\n",
    "import numpy as np\n",
    "\n",
    "from joblib import dump, load\n",
    "\n",
    "from sklearn.naive_bayes import MultinomialNB\n",
    "\n",
    "from sklearn.model_selection import train_test_split, RandomizedSearchCV\n",
    "from sklearn.pipeline import Pipeline\n",
    "from sklearn.feature_extraction.text import CountVectorizer, TfidfVectorizer\n",
    "from sklearn.metrics import accuracy_score, confusion_matrix"
   ]
  },
  {
   "cell_type": "code",
   "execution_count": 2,
   "id": "c4971fb4",
   "metadata": {},
   "outputs": [
    {
     "data": {
      "application/vnd.microsoft.datawrangler.viewer.v0+json": {
       "columns": [
        {
         "name": "index",
         "rawType": "int64",
         "type": "integer"
        },
        {
         "name": "Consumer complaint narrative",
         "rawType": "object",
         "type": "string"
        },
        {
         "name": "Issue",
         "rawType": "object",
         "type": "string"
        }
       ],
       "ref": "d1816ae4-a173-444e-9ae6-e09fc9c20708",
       "rows": [
        [
         "0",
         "My name is XXXX XXXX this complaint is not made in error neither is it being made by a third party. I declare under penalty of perjury I am alleging that a person or company- without my authorization- from unauthorized use of my social security number and card used my personal identifying information to apply for goods, services, or money ; and, was successful in creating some accounts. I have no knowledge of this and all is being investigated by the FTC and Under 15 U.S. Code 1681b Permissible purposes of consumer reports I never gave any written consent to report anything on my consumer reports. XXXX XXXX XXXX  XXXX XXXX Date Opened : XX/XX/2018 Balance : {$98000.00}. Please delete this account ASAP.",
         "Incorrect information on your report"
        ],
        [
         "1",
         "I searched on XXXX for XXXXXXXX XXXX  and was pointed to a website I legitimately believed was XXXX. The website was XXXX whereas the authentic website is XXXX I proceeded to buy a gun from the fraudulent website and sent my money via XXXX as the spam seller requested, this was a total of {$450.00} on XX/XX/XXXX. I received an email stating the transaction was approved and on XX/XX/XXXX I attempted to reach back out to the company in an attempt to give them the contact info of my chosen XXXX dealer, the emails started to bounce back ( there are also photos of this ). This was when I realized that this website was a faked, copycat website. I attempted to report it to my bank immediately when I realized a company I was dealing with was committing fraud and pretending to be a firearms dealer that has been in business for over 80 years and is a very well-known company all over the world. As my bank, I expected them to help protect me. I was told to wait until the money posted and then got a letter stating that because I initiated the transaction, they weren't refunding me my money. I reported the transaction immediately, expecting my bank to help me and they did nothing. This bank did not protect my money and could care less even after proving all the reports I filed about the fraudulent claim. It's sad that after almost a decade of business with me and my family, I don't seem to matter. I did report the fraud activity to the Federal Trade Commission, the Georgia State Commissioner, and the XXXX XXXX XXXX \n\nAfter reporting it to the XXXX Truist said they would look into it and I received a letter stating they couldn't get the money back so I wouldn't be getting it back either. Seriously? The company literally stole my money, how is that even an attempt at a resolution? \n\nAll of the information provided can be proven with screenshots and images. I also have the name of the original Truist rep we spoke to and the complaint number.",
         "Fraud or scam"
        ],
        [
         "2",
         "I have a particular account that is stating that I owe {$10000.00} and it is listed on my credit report. I reached out to them via mail on several occasions for validation and I have yet to receive a response. \n\nI recently reviewed my credit report and it says that the account is still opened.",
         "Incorrect information on your report"
        ],
        [
         "3",
         "I have not supplied proof under the doctrine of estoppel by silence, Engelhardt v Gravens ( Mo ) 281 SW 715, 719, I may presume that no proof of the alleged debt, nor therefore any such debt, in fact exists. \n\nIn a good faith effort to resolve this matter amicably, I demand for proof of the debt, specifically the alleged contract or other instrument bearing my signature in wet ink, as well as proof of your authority in this matter. Absent such proof, you must terminate this collection action and correct any erroneous reports of this debt as mine. \n\nFor the record, I state again that as I have no account with you, nor am I your customer, nor have I entered into a contract with you, I must ask for the following information : 1 ) Please evidence your authorization under 15 USC 1692 ( e ) 15 USC 1692 ( f ) and USC 1692 ( g ) in this alleged matter.\n\n2 ) What is your authorization of law for your collection of information?\n\n3 ) What is your authorization of law for your collection of this alleged debt?\n\n4 ) Please evidence your authorization to do business or operate in the state.\n5 ) Please provide proof of the alleged debt, including specifically the alleged contract or other instrument bearing my wet signature.\n\nYou have 7 days of this notice to respond. Your failure to respond, on point, in writing, hand signed, and in a timely manner, will work as a waiver to any and all of your claims in this matter, and will entitle me to presume that you sent your letter ( s ) in error, and that this matter is permanently closed.\n\nYour continued silence is unacceptable. Either provide the proof or correct the record to remove the invalid debt from my credit files with the three-primary credit-reporting agencies. You are currently in violation of the Fair Credit Reporting Act and the Fair Debt Collection Act. I can't obtain housing or employment due to the violations on my credit file. \n\nFailure to respond within 7 days of this letter will begin my small claims action against your company. I will be seeking {$5000.00} in damages for the following : 1 ) Defamation 2 ) Negligent Enablement of Identity Fraud 3 ) Violation of the Fair Credit Reporting Act After obtaining the judgment against your company, I will obtain a Writ of Execution from the Sheriffs office in your county and I will begin the process of attaching property or funds to satisfy the judgment.\n\nFor the purposes of 15 USC 1692 et seq and 15 USC 1692e this notice has the same effect as a dispute to the validity of the alleged debt and a dispute to the validity of your claims. This Notice is an attempt to correct your records, and any information received from you will be collected as evidence should any further action be necessary. This is a request for information only, and is not a statement, election, or waiver of status. \n\nAs a consumer by law this account on this letter must be deleted immediately or I will seek monetary damages in small claims court in my city and state. Also we already involved and sent this letter to the Consumer Financial Protection Bureau, XXXX XXXX XXXX Director of Enforcement Consumer Financial Protection Bureau1700 G. Street NW Washington, D.C. 2055, Law Firm XXXX XXXX XXXX XXXX XXXX XXXX, Attorney Generals Office, XXXX XXXX XXXX, State Senate, Federal Deposit Insurance Corporation, Comptroller Of The Currency, Federal Reserve System Credit and insurance, Federal Trade Commission, State Regulatory agency,",
         "Attempts to collect debt not owed"
        ],
        [
         "4",
         "Hello i'm writing regarding account on my credit reports that do not belong to me and was opened fraudulently i tried to handle the issue with credit bureaus but not a big help its still there.I checked my credit report and they had a wrong date of birth and addresses there to which i sent credit bureaus copy of my driver license with my real date of birth and an ftc report in which they did not responded and the account still remains on my report dramatically lowering my credit score.I will go ahead and attach the FTC report to my complaint and i expect credit bureaus to block inaccurate information.I also went ahead and talked to the creditor and found out that whatever information they have on their end the account that was opened under my social security number did not match with my date of birth or address that i reside on. \nXXXX XXXX XXXX Account number XXXX",
         "Incorrect information on your report"
        ]
       ],
       "shape": {
        "columns": 2,
        "rows": 5
       }
      },
      "text/html": [
       "<div>\n",
       "<style scoped>\n",
       "    .dataframe tbody tr th:only-of-type {\n",
       "        vertical-align: middle;\n",
       "    }\n",
       "\n",
       "    .dataframe tbody tr th {\n",
       "        vertical-align: top;\n",
       "    }\n",
       "\n",
       "    .dataframe thead th {\n",
       "        text-align: right;\n",
       "    }\n",
       "</style>\n",
       "<table border=\"1\" class=\"dataframe\">\n",
       "  <thead>\n",
       "    <tr style=\"text-align: right;\">\n",
       "      <th></th>\n",
       "      <th>Consumer complaint narrative</th>\n",
       "      <th>Issue</th>\n",
       "    </tr>\n",
       "  </thead>\n",
       "  <tbody>\n",
       "    <tr>\n",
       "      <th>0</th>\n",
       "      <td>My name is XXXX XXXX this complaint is not mad...</td>\n",
       "      <td>Incorrect information on your report</td>\n",
       "    </tr>\n",
       "    <tr>\n",
       "      <th>1</th>\n",
       "      <td>I searched on XXXX for XXXXXXXX XXXX  and was ...</td>\n",
       "      <td>Fraud or scam</td>\n",
       "    </tr>\n",
       "    <tr>\n",
       "      <th>2</th>\n",
       "      <td>I have a particular account that is stating th...</td>\n",
       "      <td>Incorrect information on your report</td>\n",
       "    </tr>\n",
       "    <tr>\n",
       "      <th>3</th>\n",
       "      <td>I have not supplied proof under the doctrine o...</td>\n",
       "      <td>Attempts to collect debt not owed</td>\n",
       "    </tr>\n",
       "    <tr>\n",
       "      <th>4</th>\n",
       "      <td>Hello i'm writing regarding account on my cred...</td>\n",
       "      <td>Incorrect information on your report</td>\n",
       "    </tr>\n",
       "  </tbody>\n",
       "</table>\n",
       "</div>"
      ],
      "text/plain": [
       "                        Consumer complaint narrative  \\\n",
       "0  My name is XXXX XXXX this complaint is not mad...   \n",
       "1  I searched on XXXX for XXXXXXXX XXXX  and was ...   \n",
       "2  I have a particular account that is stating th...   \n",
       "3  I have not supplied proof under the doctrine o...   \n",
       "4  Hello i'm writing regarding account on my cred...   \n",
       "\n",
       "                                  Issue  \n",
       "0  Incorrect information on your report  \n",
       "1                         Fraud or scam  \n",
       "2  Incorrect information on your report  \n",
       "3     Attempts to collect debt not owed  \n",
       "4  Incorrect information on your report  "
      ]
     },
     "execution_count": 2,
     "metadata": {},
     "output_type": "execute_result"
    }
   ],
   "source": [
    "complaints = pd.read_csv('../data/complaints.csv')\n",
    "complaints.head()"
   ]
  },
  {
   "cell_type": "code",
   "execution_count": 3,
   "id": "824a149c",
   "metadata": {},
   "outputs": [
    {
     "data": {
      "application/vnd.microsoft.datawrangler.viewer.v0+json": {
       "columns": [
        {
         "name": "Issue",
         "rawType": "object",
         "type": "string"
        },
        {
         "name": "count",
         "rawType": "int64",
         "type": "integer"
        }
       ],
       "ref": "5cc1bf8c-7b0b-4bae-9036-c1696c839f75",
       "rows": [
        [
         "Incorrect information on your report",
         "229305"
        ],
        [
         "Attempts to collect debt not owed",
         "73163"
        ],
        [
         "Communication tactics",
         "21243"
        ],
        [
         "Struggling to pay mortgage",
         "17374"
        ],
        [
         "Fraud or scam",
         "12347"
        ]
       ],
       "shape": {
        "columns": 1,
        "rows": 5
       }
      },
      "text/plain": [
       "Issue\n",
       "Incorrect information on your report    229305\n",
       "Attempts to collect debt not owed        73163\n",
       "Communication tactics                    21243\n",
       "Struggling to pay mortgage               17374\n",
       "Fraud or scam                            12347\n",
       "Name: count, dtype: int64"
      ]
     },
     "execution_count": 3,
     "metadata": {},
     "output_type": "execute_result"
    }
   ],
   "source": [
    "complaints['Issue'].value_counts()"
   ]
  },
  {
   "cell_type": "code",
   "execution_count": 4,
   "id": "026d902e",
   "metadata": {},
   "outputs": [
    {
     "name": "stdout",
     "output_type": "stream",
     "text": [
      "On XX/XX/21 I received an email from Venmo asking for {$400.00}. The picture, name, and ID all match my wife 's account so I paid it. As soon as I paid it, the picture changed to a woman who was not my wife, and the name changed to @ XXXX. I feel like Venmo should have better protected our accounts and not allow a scammer/hacker to use my wife 's name and picture. I contacted Venmo and they refuse to look into it or try to recover my {$400.00} from the scammer. I also contacted XXXX XXXX XXXX XXXX County Police and they were hesitant to grant a police report because they said there is no way they will catch the scammer and that will be the only way to get my money back. I place my trust in Venmo to protect my accounts and not allow hackers to use my wife 's info. Venmo says they are not responsible but I have seen very similar cases on this site when Venmo refunds the full amount which is usually over {$400.00}. I am asking Venmo to refund me the full {$400.00}. Screen shots are attached - take note of how the name and picture change once I paid it. Thank you\n",
      "-----------------------------\n",
      "ON XX/XX/2019 I madfe a transaction through XXXX via their Zelle service for {$200.00}. The transaction was payment for concert tickets. Once the transaction went through the person i sent the money to disappeared. I have their email and phone number. I have reached out to them individually and they threatened to kill me via text I have filed complaints with both XXXX XXXX and Zelle, but neither will take responsibility for the fraud.\n",
      "-----------------------------\n",
      "On XX/XX/2021 I received a cut off notice from XXXX XXXX informing me that I was behind on my bills and my electricity would be shut off within thirty minutes if I did not send an outstanding balance of {$490.00}. They walked me through my Wells Fargo account and finding the XXXX application. \n",
      "After wiring the money, I did not see the payment posted on my XXXX  account so I realized I was the victim of a scam. I called Wells Fargo immediately and filed a claim. They have not covered the amount even though they state they offer 100 % fraud protection. The only reason I used the XXXX app is because its on my Wells Fargo app which I did not ask for so it seemed as if it was safe and backed by my bank.\n",
      "-----------------------------\n"
     ]
    }
   ],
   "source": [
    "seed = 11\n",
    "for statement in complaints.loc[complaints['Issue'] == 'Fraud or scam', 'Consumer complaint narrative'].sample(3, random_state=seed):\n",
    "    print(statement)\n",
    "    print('-----------------------------')"
   ]
  },
  {
   "cell_type": "code",
   "execution_count": 5,
   "id": "fd24d4a1",
   "metadata": {},
   "outputs": [
    {
     "name": "stdout",
     "output_type": "stream",
     "text": [
      "In XX/XX/XXXX I was injured at work and was unable to work. I my employer contested my workmans compensation claim and I fell behind in all my bills including my Mortgage with Wells Fargo. I called bi weekly, I informed the bank of what I was dealing with and that I expected the outcome to be in my favor. I spoke with the Bank at least twice every two weeks from XX/XX/XXXX XX/XX/XXXX, ( XX/XX/XXXX being the month I went to court with Compensation company ). I won the case and as stated, on XX/XX/XXXX XXXX the commission awarded me back pay and weekly amount until I go back to work. I called Wells Fargo on XX/XX/XXXX regarding my case and the following are the 3 incidents that followed of which I am seeking assistance in repayment and clarity : 1 ) I called Wells Fargo to inform them that I won my case and payment was made to me in the form of a check on XX/XX/XXXX and that I would be paying the back amount in full by that Friday ( XX/XX/XXXX ) at the latest Monday ( XX/XX/XXXX ) because the check had to clear my credit union. At this time, A Wells Fargo Billing Representative named XXXX assured me that I was not in foreclosure and that making the payment of {$7100.00}. I had been in touch with them every week for 5 months telling them of my injury the court hearing for workmans comp. The attached documentation even says I was not in foreclosure and it is dated XX/XX/XXXX. However when I called to make the payment Monday, XX/XX/XXXX, a billing representative I told me that I went into foreclosure on XX/XX/XXXX. What? Was my reply and Why would the Wells Fargo, the day after I called telling them I could bring the account current, why would the bank put me in foreclosure, filing the very next day, even though their letter dated a day later stated no foreclosure?!! This is wrong! I want my money back, the reinstatement fees I was charged for their errors and in my opinion ... their greed. \n",
      "\n",
      "2 ) I wanted to reinstate my loan, and I was told the same amount ( {$7100.00} plus late fees ( {$500.00} ) making the total reinstatement cost to be {$7600.00} ) would be due by XX/XX/XXXX and that I also had to wait to pay the total amount until they could add the legal fees due to filing fees ) weeks later, they sent a confusing letter which still had late fees listed. The Bankruptcy/Foreclosure Manager I worked with was XXXX XXXX XXXX. Further, I was also was told the option to pay late payments after reinstatement was not policy until XX/XX/XXXX, yet the billing rep. tried to confuse me by saying it was there all along. Either way, Wells Fargos quoted me {$8600.00}, for full reinstatement of my loan, including all late fees, this was given by telephone and in writing in XX/XX/XXXX ( attached ). Where are all these new late fees coming from if my Loan was paid up and I had a clean slate to quote the bankruptcy/foreclosure department? I would have paid everything I owed including late payments when I received the quote if I this case had been that they were not included, they never state anything clearly. I do not owe them XX/XX/XXXX late fees, they were paid in the reinstatement payment of my loan. \n",
      "\n",
      "3 ) Mortgage increased w/o reason. When I asked why, I was given multiple different reasons but none where valid, from insurance increase to late fees to tax increase to late fees put on the back end of the loan, which in addition to this underhanded business practice, Wells Fargo was also late with the insurance payments to my chosen insurer, XXXX ( notice attached ) and caused the cancellation of homeowners insurance ; then Wells Fargo added their own insurance company as my provider, which was more expensive than XXXX. They tried to cover their tracks when I caught them, by saying that I was not charged for their insurance. \n",
      "\n",
      "Again,, my mortgage also increased by $ XXXXWhy? when I asked Wells Fargo Customer Representative, they gave me a plethora of reasons and excuses, none of which added up. I did the math, based on every account they gave me, primarily the two prevailing opinions of increase in my taxes and increase of my insurance, both of which are true. The increase in my taxes ( Taxes {$310.00} ) and Insurance ( {$180.00} ) would only equal a {$41.00} increase in my payments, not a {$98.00} increase. Mortgage with increase would be {$1400.00}, not the {$1500.00} I have been charged since XX/XX/XXXX. \n",
      "Please help me get to the bottom of this hodgepodge of hearsay and unfounded opinion. I now have to watch my Mortgage company for every little thing, monthly by calling to be sure that no new charges have been added nor miss charges applied. I do not own any late payments, they were paid in the loan reinstatement.\n",
      "-----------------------------\n",
      "I have a mortgage with Dovenmuehle / XXXX XXXX XXXX XXXX XXXX XXXX XXXX, XXXX XXXX XXXX in which I do not live. In XXXX my tenants fell behind in rent by several months, but because of Covid eviction restrictions I could not evict. I called DovenmuehleXXXX  in XXXX of XXXX and explained the situation and asked if there were any \" programs '' available to me for my situation. They granted me a 3-month forbearance period starting XX/XX/XXXX at the end of which the \" skipped '' payments were to be deferred to the end of the loan. Even though I was granted 3 months of forbearance, I skipped only 2 monthly payments at that time. I called DovenmuehleXXXX  and explained that I have resumed payments and requested my new amortization/payments schedule. The response was that my account was \" still being reviewed '' and that someone would contact me with my options. I explained that I did not understand because we have already decided on this 3-month covid hardship forbearance/deferral, but they simply told me that I was granted an additional 3 month forbearance/deferral period while my account was being reviewed. I continued with one more monthly payment even though they granted me this extension. I called again towards the end of this second 3-month forbearance/deferral period to ask again what my steps were to complete this deferment and requested my new amortization/payment schedule. The response was the same as the first time I called. They simply explained that my account was being reviewed and that someone will contact me with my options even though I explained to them that my option had already been decided, that the \" skipped '' payments would be deferred. Their response was again to offer me another 3-month forbearance/deferment period and that someone will contact me with my options. When the 9-month forbearance/deferment period ended I had \" skipped '' only 5 monthly payments, but I started to receive past due balance notices. After countless phone calls the deferment was finally granted on XX/XX/XXXX, but the past due notices continued. I called and explained this error, but nobody could fix it. They then requested that I submit a \" Loss Mitigation '' application which I submitted. From that point on it has been a constant cycle of phone calls, foreclosure notices, court dates, them requesting more and more documentation ( pay stubs, tax forms, rental agreements, etc. etc. ) They have tacked on {$4100.00} in legal fees and are continuing with the foreclosure. Even though their lawyers sent to me a notice to appear in court ( for the 3rd time ) on XX/XX/XXXX they did not show up and the judge rescheduled the hearing to XX/XX/XXXX. The boiler now needs to be replaced and my tenants are without heat, but I can not replace the {$13000.00} boiler until the foreclosure has been resolved. Because of this my tenants will need to move out, so now I will lose my rental income. Due to Dovenmuehle'sXXXX XXXX processing errors, this investment will be wiped out. I simple 15-minute phone call back in XX/XX/XXXX when I called could have avoided this entire mess. I am now considering filing a lawsuit if this does not get corrected and resolved before I suffer any more losses due to their errors.\n",
      "-----------------------------\n",
      "Bayview LN XXXX XXXX XXXX XXXX XXXX XXXX, XXXX XXXX CA XXXX Once again we cant get Bayview to service their loan unless we file a CFPB complaint. \n",
      "Even Bayviews own attorney is frustrated with Bayview. The attorney informed Bayview several times over the last week - to remove the litigation flags preventing Bayview from speaking with us. Bayview is ignoring their own attorney and is refusing to remove the litigation flags, and therefore speaking to us, XXXX XXXX XXXX, as an authorized third party. There is a foreclosure date coming up very quickly and we simply do not have time to allow Bayview to continue playing these games. XXXX It is apparent that Bayview is ignoring their own attorney in order to force this property into foreclosure.\n",
      "-----------------------------\n"
     ]
    }
   ],
   "source": [
    "seed = 11\n",
    "for statement in complaints.loc[complaints['Issue'] == 'Struggling to pay mortgage', 'Consumer complaint narrative'].sample(3, random_state=seed):\n",
    "    print(statement)\n",
    "    print('-----------------------------')"
   ]
  },
  {
   "cell_type": "code",
   "execution_count": 6,
   "id": "9e5d389a",
   "metadata": {},
   "outputs": [
    {
     "name": "stdout",
     "output_type": "stream",
     "text": [
      "On XX/XX/2017 I received a called from I received a call from XXXX from XXXX, he called back to back three times, when I answered the he asked to speak to XXXX, I responded this she, he identified himself, Then he proceeded to as for my ss # and I said I 'm not going to verified anything with he then asked for my birthday, I repeated my self, he continue to asked for my address I refused. He became very upset with and his whole attitude change. I told him you do n't talk any kind of way. He snapped you have a great afternoon, I 've just got out of the hostipal and not supposed to be under any stress. \n",
      "My husband grab the phone he hung up this is the second they called and got smart. My husband explained to them that I have a serious XXXX XXXX and their respond was somebody have to pay the bill. If we had the money the bill would be paid nobody like to be harrass\n",
      "-----------------------------\n",
      "First, the debt collector never told me this was an attempted to collect a debt. I have been hit hard with medical bills due to multiple XXXX XXXX, and my son being born XXXX. Due to baby 's XXXX, I can not work so it is just my husband 's income coming in. I was then asked how I manage to pay my bills. I disclosed my parent 's are assisting. Then she asked about the baby 's father. This is personal information and I told her that is not something I wish to discuss. She pressed the issue further asking me if he works and why he ca n't pay the bills. I once again told her that is personal. She then asked why I was n't on government assistance if I ca n't pay my bill, which is over {$6000.00}. I told her that I do n't plan to live off of the government if i do n't have to and I am not going on assistance just to pay this XXXX bill. They already knew the situation and had sent out a financial assistance application just the week before. I asked for a manager who stated that she has the right to know my personal information including information on the father of my child, even though this medical bills are mine, not my husband 's or my child 's. They then said if I do n't get my financial assistance application in this week that they will send the bills to court to get a judgement out against me. On top of everything else, they call up to XXXX 7 times a day from different numbers. When I pick up, they hang up. They never leave a message. The intrusion into my personal relationships and my life are not welcomed and continued even after I explained they were not something I wanted to talk about. I do what I need to do to make sure my children are fed. They do n't need to know how I manage to feed my children or imply that I can not. I know others who have had similar situations with this company and it needs to stop. I understand they are doing a job, but I have worked collections myself and know that this is unacceptable behavior.\n",
      "-----------------------------\n",
      "XX/XX/2022 The Cash store calls me at XXXX MST - Missed call The Cash store calls me at XXXX XXXX - Spoke to XXXX where she gave me a courtesy call to remind me that the first payment of my installment loan was due on XXXX. I advised her I'd be in afternoon of XXXX to make the payment. \n",
      "\n",
      "XX/XX/2022 The Cash store calls me at XXXX XXXX - Spoke to XXXX where she again reminded me of payment and asking when I'd be in. I again advised her I'd be in later in the afternoon. \n",
      "\n",
      "The Cash store calls me at XXXX MST - Spoke to XXXX AGAIN, where she asked, again, when I'd be in to make the payment. I advised her after XXXX. \n",
      "\n",
      "I arrived around XXXX XXXX at XXXX XXXX XXXX XXXX XXXX XXXX ID XXXX and paid my installment loan where XXXX asked me, \" So who's your new employer? '' I asked her what she was referring to and she responded that she had called my job and they advised her that I no longer worked there. I had been laid off on Wednesday XXXX. \n",
      "\n",
      "She called XXXX times over the course of a XXXX hour period where I had actually spoken to her on the 2nd call. I asked her about this and she insisted that they were all courtesy calls ; which of course, after the 1st contact, is no longer a courtesy and is harrassment.\n",
      "-----------------------------\n"
     ]
    }
   ],
   "source": [
    "seed = 11\n",
    "for statement in complaints.loc[complaints['Issue'] == 'Communication tactics', 'Consumer complaint narrative'].sample(3, random_state=seed):\n",
    "    print(statement)\n",
    "    print('-----------------------------')"
   ]
  },
  {
   "cell_type": "code",
   "execution_count": 7,
   "id": "fc703f40",
   "metadata": {},
   "outputs": [
    {
     "name": "stdout",
     "output_type": "stream",
     "text": [
      "XXXX XXXX XXXX. I do not know what this is for. I believe it is XXXX XXXX  who forces subscribers to open new accounts when you transfer services which I have done twice and have noticed they reported put those accounts into collections after charging me under my old account when I was paying regularly on my new account. In XX/XX/XXXX'17, I had a balance of around {$40.00} plus whatever they charged for a late fee. They waived the late fee and credited my new account {$20.00} and I paid the balance. Now I see this on my report that was reported in XX/XX/XXXX so I can only assume it originated from XXXX.\n",
      "-----------------------------\n",
      "I have sent several letters to XXXX XXXX XXXX and XXXX XXXX XXXX about the debts listed with their companies. I have asked repeatedly for the actual applications from the company they are collecting for. I get the bills and letters stating that the debt is valid. They have severely damaged my credit to the point I had to hire a credit repair agency. And they are charging me {$1000.00} an account and it's four accounts. I can not afford to have this incorrect information on my credit report due to my employment. These accounts have damaged my reputation so much that I can not get promoted due to the negative accounts. \n",
      "JCPenney is {$570.00} XXXX XXXX is {$350.00} both with XXXX XXXX XXXX. Letter sent XX/XX/2018. XXXX XXXX XXXX has these accounts XXXX {$330.00} and Sychrony {$1000.00}, Letter sent on XX/XX/2018.\n",
      "-----------------------------\n",
      "Around XX/XX/XXXX, Allied Collection started reporting a retail collection, on behalf of XXXX XXXX, to my credit. According to the report, the account is from XX/XX/XXXX, yet this is the first I 've heard of it. I do n't know what XXXX XXXX is. I have never heard of that store, and certainly never shopped there. \n",
      "\n",
      "I tried to look it up online and all I found was a loan company with tons of complaints about fraud and operating without a license/illegally, etc. I 'm not sure if this is the same, since loans are n't retail, are they? \n",
      "\n",
      "Either way, the balance has somehow increased from {$300.00} to {$380.00}, which is also odd for an account that I did n't even know existed and has been closed for five years. I 'll be honest, the whole thing is suspicious, not least of which that I never got a bill or collection notice in five years.\n",
      "-----------------------------\n"
     ]
    }
   ],
   "source": [
    "seed = 11\n",
    "for statement in complaints.loc[complaints['Issue'] == 'Attempts to collect debt not owed', 'Consumer complaint narrative'].sample(3, random_state=seed):\n",
    "    print(statement)\n",
    "    print('-----------------------------')"
   ]
  },
  {
   "cell_type": "code",
   "execution_count": 8,
   "id": "0ce6674f",
   "metadata": {},
   "outputs": [
    {
     "name": "stdout",
     "output_type": "stream",
     "text": [
      "A Geo rgia State Tax Lien  (  XXXX   XXXX   Superior Court ) is showing  on my credit rep ort. Tax Lien is   showing as filed  XXXX / XXXX / 2013 . I do not a delinquent tax/tax lien with the state of Georgia. I am requesting this tax lien be removed from my credit report as soon as possible.\n",
      "-----------------------------\n",
      "Hi I am submitting this XXXX XXXX this isn't any influence and this is not a third party. XXXX has low and unfair credit number for me in their report. I have complained. The problem has not been resolved. my fico has me at a credit score over 719XXXX has me at a score around 590. That is a huge difference. XXXX paints me as a XXXX. my fico say I have good credit. What the heck is going on here. i have almost no debt and my identity was stolen causing my score to drop n i made this clear for 60 days straight with XXXX i spoke to a representative agent name XXXX and XXXX and XXXX from the fraud department I prefer to speak to a us rept but they refused they had me on mute for 4 hours which was hurtful I have a perfect repayment record. I have very low credit utilization. I have three negative credit items outstanding debt now. I have modest but ok income. Social Security. Something is wrong with XXXX. I do not understand why they are abusing consumers .This was a fist step towards attempting resolution. They kept lying telling me they disputed n its not reporting but it keep reporting this inaccurate information without my authorization. They refused or were unable to verify n remove the inquiries and its been 60days n they record the calls n admitted they had my police report n ftc and affidavit That was after attempting to contact XXXX more than 21 times. XXXX is an abusive company. They are supposed to be protecting consumers. They need to be reigned in. they are causing me severe XXXX  and stopping me from getting this job offer n now im XXXX n cant provide to my XXXX year old daughter PLEASE HELP ME PLEASE im XXXX  now.with no help.\n",
      "-----------------------------\n",
      "Hello my name is XXXX. I am a victim of identity theft. I have been dispute fraudulent accounts on my credit report for the last 20 months. And nothing is getting done about the fraud account on my credit report. I have submitted my personal statement, identified theft report and a police report. to all three credit bureau. There is no excuse for them not to remove the account because I've also talk to the credit card Company 's and asked them to send me documents verifying that they have the correct person. Please help me remove the fraudulent account from my credit report. \n",
      "\n",
      "\n",
      "XXXX XXXX XXXX XXXX XXXX XXXX XXXX XXXX XXXX nv XXXX DOB XX/XX/XXXX\n",
      "-----------------------------\n"
     ]
    }
   ],
   "source": [
    "seed = 11\n",
    "for statement in complaints.loc[complaints['Issue'] == 'Incorrect information on your report', 'Consumer complaint narrative'].sample(3, random_state=seed):\n",
    "    print(statement)\n",
    "    print('-----------------------------')"
   ]
  },
  {
   "cell_type": "code",
   "execution_count": 9,
   "id": "76956347",
   "metadata": {},
   "outputs": [],
   "source": [
    "X = complaints[['Consumer complaint narrative']]\n",
    "y = complaints['Issue']\n",
    "\n",
    "X_train, X_test, y_train, y_test = train_test_split(X, y, random_state = 11, stratify = y)"
   ]
  },
  {
   "cell_type": "code",
   "execution_count": 10,
   "id": "54e2529b",
   "metadata": {},
   "outputs": [],
   "source": [
    "vect = CountVectorizer()\n",
    "\n",
    "X_train_vec = vect.fit_transform(X_train['Consumer complaint narrative'])\n",
    "X_test_vec = vect.transform(X_test['Consumer complaint narrative'])"
   ]
  },
  {
   "cell_type": "code",
   "execution_count": 11,
   "id": "018767f5",
   "metadata": {},
   "outputs": [
    {
     "name": "stdout",
     "output_type": "stream",
     "text": [
      "Accuracy: 0.8002784128205709\n",
      "[[12086  2087   489  3306   323]\n",
      " [  571  4483    59    99    99]\n",
      " [   72    58  2784   123    50]\n",
      " [ 6554   919   850 47147  1856]\n",
      " [   39    41    26    26  4211]]\n"
     ]
    }
   ],
   "source": [
    "nb = MultinomialNB().fit(X_train_vec, y_train)\n",
    "\n",
    "y_pred = nb.predict(X_test_vec)\n",
    "print(f'Accuracy: {accuracy_score(y_test, y_pred)}')\n",
    "print(confusion_matrix(y_test, y_pred))"
   ]
  },
  {
   "cell_type": "code",
   "execution_count": 12,
   "id": "c6ad1319",
   "metadata": {},
   "outputs": [
    {
     "data": {
      "text/plain": [
       "array([0.01065047, 0.00826678, 0.00030694, 0.00197996, 0.00055034])"
      ]
     },
     "execution_count": 12,
     "metadata": {},
     "output_type": "execute_result"
    }
   ],
   "source": [
    "word = 'debt'\n",
    "\n",
    "np.exp(nb.feature_log_prob_)[:, vect.vocabulary_[word]]"
   ]
  },
  {
   "cell_type": "code",
   "execution_count": 13,
   "id": "3a2aa027",
   "metadata": {},
   "outputs": [
    {
     "name": "stdout",
     "output_type": "stream",
     "text": [
      "Fitting 5 folds for each of 10 candidates, totalling 50 fits\n"
     ]
    },
    {
     "data": {
      "text/plain": [
       "['../models/cv_01.joblib']"
      ]
     },
     "execution_count": 13,
     "metadata": {},
     "output_type": "execute_result"
    }
   ],
   "source": [
    "vect = CountVectorizer()\n",
    "clf = MultinomialNB()\n",
    "\n",
    "pipe = Pipeline([(\"vect\", vect), (\"clf\", clf)])\n",
    "\n",
    "param_grid = {\n",
    "    'vect__ngram_range':[(1,1), (1,2), (1,3)],\n",
    "    'vect__min_df':[1, 2, 5, 10, 20],\n",
    "    'clf__fit_prior':[False, True]\n",
    "}\n",
    "\n",
    "rs = RandomizedSearchCV(estimator = pipe, param_distributions = param_grid, verbose = 2, n_jobs = -1)\n",
    "rs.fit(X_train['Consumer complaint narrative'], y_train)\n",
    "\n",
    "dump(rs, \"../models/cv_01.joblib\")"
   ]
  },
  {
   "cell_type": "code",
   "execution_count": 14,
   "id": "ad7d1ccf",
   "metadata": {},
   "outputs": [
    {
     "name": "stdout",
     "output_type": "stream",
     "text": [
      "Best params: {'vect__ngram_range': (1, 3), 'vect__min_df': 2, 'clf__fit_prior': False}\n",
      "Best score: 0.8313188103280795\n"
     ]
    }
   ],
   "source": [
    "rs = load(\"../models/cv_01.joblib\")\n",
    "print(f'Best params: {rs.best_params_}')\n",
    "print(f'Best score: {rs.best_score_}')"
   ]
  },
  {
   "cell_type": "code",
   "execution_count": 15,
   "id": "176221da",
   "metadata": {},
   "outputs": [
    {
     "name": "stdout",
     "output_type": "stream",
     "text": [
      "Accuracy: 0.8341746078453564\n",
      "[[14806   751   187  2202   345]\n",
      " [  933  4096    39    76   167]\n",
      " [  138    21  2723   115    90]\n",
      " [ 6993   173   345 47809  2006]\n",
      " [   32    14     9    16  4272]]\n"
     ]
    }
   ],
   "source": [
    "y_pred = rs.best_estimator_.predict(X_test['Consumer complaint narrative'])\n",
    "\n",
    "print(f'Accuracy: {accuracy_score(y_test, y_pred)}')\n",
    "print(confusion_matrix(y_test, y_pred))"
   ]
  },
  {
   "cell_type": "code",
   "execution_count": 16,
   "id": "5979e080",
   "metadata": {},
   "outputs": [
    {
     "data": {
      "text/plain": [
       "array([6.79747524e-08, 2.14321659e-07, 5.28332853e-07, 1.16803441e-08,\n",
       "       2.01144148e-07])"
      ]
     },
     "execution_count": 16,
     "metadata": {},
     "output_type": "execute_result"
    }
   ],
   "source": [
    "word = 'give me money'\n",
    "\n",
    "np.exp(rs.best_estimator_['clf'].feature_log_prob_)[:, rs.best_estimator_['vect'].vocabulary_[word]]"
   ]
  }
 ],
 "metadata": {
  "kernelspec": {
   "display_name": "base",
   "language": "python",
   "name": "python3"
  },
  "language_info": {
   "codemirror_mode": {
    "name": "ipython",
    "version": 3
   },
   "file_extension": ".py",
   "mimetype": "text/x-python",
   "name": "python",
   "nbconvert_exporter": "python",
   "pygments_lexer": "ipython3",
   "version": "3.12.4"
  }
 },
 "nbformat": 4,
 "nbformat_minor": 5
}
